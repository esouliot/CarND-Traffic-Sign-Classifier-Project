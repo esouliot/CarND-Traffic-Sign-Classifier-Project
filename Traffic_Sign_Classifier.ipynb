{
 "cells": [
  {
   "cell_type": "markdown",
   "metadata": {},
   "source": [
    "# Self-Driving Car Engineer Nanodegree\n",
    "\n",
    "## Deep Learning\n",
    "\n",
    "## Project: Build a Traffic Sign Recognition Classifier\n",
    "\n",
    "In this notebook, a template is provided for you to implement your functionality in stages, which is required to successfully complete this project. If additional code is required that cannot be included in the notebook, be sure that the Python code is successfully imported and included in your submission if necessary. \n",
    "\n",
    "> **Note**: Once you have completed all of the code implementations, you need to finalize your work by exporting the iPython Notebook as an HTML document. Before exporting the notebook to html, all of the code cells need to have been run so that reviewers can see the final implementation and output. You can then export the notebook by using the menu above and navigating to  \\n\",\n",
    "    \"**File -> Download as -> HTML (.html)**. Include the finished document along with this notebook as your submission. \n",
    "\n",
    "In addition to implementing code, there is a writeup to complete. The writeup should be completed in a separate file, which can be either a markdown file or a pdf document. There is a [write up template](https://github.com/udacity/CarND-Traffic-Sign-Classifier-Project/blob/master/writeup_template.md) that can be used to guide the writing process. Completing the code template and writeup template will cover all of the [rubric points](https://review.udacity.com/#!/rubrics/481/view) for this project.\n",
    "\n",
    "The [rubric](https://review.udacity.com/#!/rubrics/481/view) contains \"Stand Out Suggestions\" for enhancing the project beyond the minimum requirements. The stand out suggestions are optional. If you decide to pursue the \"stand out suggestions\", you can include the code in this Ipython notebook and also discuss the results in the writeup file.\n",
    "\n",
    "\n",
    ">**Note:** Code and Markdown cells can be executed using the **Shift + Enter** keyboard shortcut. In addition, Markdown cells can be edited by typically double-clicking the cell to enter edit mode."
   ]
  },
  {
   "cell_type": "markdown",
   "metadata": {},
   "source": [
    "---\n",
    "## Step 0: Load The Data"
   ]
  },
  {
   "cell_type": "code",
   "execution_count": 79,
   "metadata": {},
   "outputs": [],
   "source": [
    "# Load pickled data\n",
    "import pickle\n",
    "\n",
    "# TODO: Fill this in based on where you saved the training and testing data\n",
    "\n",
    "training_file = './traffic-signs-data/train.p'\n",
    "validation_file = './traffic-signs-data/valid.p'\n",
    "testing_file = './traffic-signs-data/test.p'\n",
    "\n",
    "with open(training_file, mode='rb') as f:\n",
    "    train = pickle.load(f)\n",
    "with open(validation_file, mode='rb') as f:\n",
    "    valid = pickle.load(f)\n",
    "with open(testing_file, mode='rb') as f:\n",
    "    test = pickle.load(f)\n",
    "    \n",
    "X_train, y_train = train['features'], train['labels']\n",
    "X_valid, y_valid = valid['features'], valid['labels']\n",
    "X_test, y_test = test['features'], test['labels']"
   ]
  },
  {
   "cell_type": "markdown",
   "metadata": {},
   "source": [
    "---\n",
    "\n",
    "## Step 1: Dataset Summary & Exploration\n",
    "\n",
    "The pickled data is a dictionary with 4 key/value pairs:\n",
    "\n",
    "- `'features'` is a 4D array containing raw pixel data of the traffic sign images, (num examples, width, height, channels).\n",
    "- `'labels'` is a 1D array containing the label/class id of the traffic sign. The file `signnames.csv` contains id -> name mappings for each id.\n",
    "- `'sizes'` is a list containing tuples, (width, height) representing the original width and height the image.\n",
    "- `'coords'` is a list containing tuples, (x1, y1, x2, y2) representing coordinates of a bounding box around the sign in the image. **THESE COORDINATES ASSUME THE ORIGINAL IMAGE. THE PICKLED DATA CONTAINS RESIZED VERSIONS (32 by 32) OF THESE IMAGES**\n",
    "\n",
    "Complete the basic data summary below. Use python, numpy and/or pandas methods to calculate the data summary rather than hard coding the results. For example, the [pandas shape method](http://pandas.pydata.org/pandas-docs/stable/generated/pandas.DataFrame.shape.html) might be useful for calculating some of the summary results. "
   ]
  },
  {
   "cell_type": "markdown",
   "metadata": {},
   "source": [
    "### Provide a Basic Summary of the Data Set Using Python, Numpy and/or Pandas"
   ]
  },
  {
   "cell_type": "code",
   "execution_count": 80,
   "metadata": {},
   "outputs": [
    {
     "name": "stdout",
     "output_type": "stream",
     "text": [
      "Number of training examples = 34799\n",
      "Number of validation examples = 4410\n",
      "Number of testing examples = 12630\n",
      "Image data shape = (32, 32, 3)\n",
      "Number of classes = 43\n"
     ]
    }
   ],
   "source": [
    "### Replace each question mark with the appropriate value. \n",
    "### Use python, pandas or numpy methods rather than hard coding the results\n",
    "\n",
    "# TODO: Number of training examples\n",
    "n_train = X_train.shape[0]\n",
    "\n",
    "# TODO: Number of validation examples\n",
    "n_validation = X_valid.shape[0]\n",
    "\n",
    "# TODO: Number of testing examples.\n",
    "n_test = X_test.shape[0]\n",
    "\n",
    "# TODO: What's the shape of an traffic sign image?\n",
    "image_shape = X_train.shape[1:]\n",
    "\n",
    "# TODO: How many unique classes/labels there are in the dataset.\n",
    "n_classes = len(set(y_train))\n",
    "\n",
    "print(\"Number of training examples =\", n_train)\n",
    "print(\"Number of validation examples =\", n_validation)\n",
    "print(\"Number of testing examples =\", n_test)\n",
    "print(\"Image data shape =\", image_shape)\n",
    "print(\"Number of classes =\", n_classes)"
   ]
  },
  {
   "cell_type": "markdown",
   "metadata": {},
   "source": [
    "### Include an exploratory visualization of the dataset"
   ]
  },
  {
   "cell_type": "markdown",
   "metadata": {},
   "source": [
    "Visualize the German Traffic Signs Dataset using the pickled file(s). This is open ended, suggestions include: plotting traffic sign images, plotting the count of each sign, etc. \n",
    "\n",
    "The [Matplotlib](http://matplotlib.org/) [examples](http://matplotlib.org/examples/index.html) and [gallery](http://matplotlib.org/gallery.html) pages are a great resource for doing visualizations in Python.\n",
    "\n",
    "**NOTE:** It's recommended you start with something simple first. If you wish to do more, come back to it after you've completed the rest of the sections. It can be interesting to look at the distribution of classes in the training, validation and test set. Is the distribution the same? Are there more examples of some classes than others?"
   ]
  },
  {
   "cell_type": "code",
   "execution_count": 81,
   "metadata": {},
   "outputs": [
    {
     "data": {
      "image/png": "[encoded data removed]",
      "text/plain": [
       "<matplotlib.figure.Figure at 0x4d34f908>"
      ]
     },
     "metadata": {},
     "output_type": "display_data"
    }
   ],
   "source": [
    "### Data exploration visualization code goes here.\n",
    "### Feel free to use as many code cells as needed.\n",
    "import matplotlib.pyplot as plt\n",
    "import random as r\n",
    "import pandas as pd\n",
    "import numpy as np\n",
    "from skimage.exposure import *\n",
    "\n",
    "# Visualizations will be shown in the notebook.\n",
    "choice = r.choice(range(n_train))\n",
    "sign = X_train[choice]\n",
    "label = y_train[choice]\n",
    "\n",
    "#Reading-in sign labels\n",
    "names = pd.read_csv('./signnames.csv')\n",
    "\n",
    "#Visualize\n",
    "%matplotlib inline\n",
    "name = names['SignName'][label]\n",
    "title = 'Tag ' + str(label) + ' - ' + name\n",
    "plt.figure(figsize = (5, 5))\n",
    "plt.imshow(sign)\n",
    "plt.suptitle(\"Sample image\", fontsize = 16)\n",
    "plt.title(title)\n",
    "plt.savefig('./Sample.png')"
   ]
  },
  {
   "cell_type": "code",
   "execution_count": 82,
   "metadata": {},
   "outputs": [
    {
     "data": {
      "image/png": "[encoded data removed]",
      "text/plain": [
       "<matplotlib.figure.Figure at 0x4e4507b8>"
      ]
     },
     "metadata": {},
     "output_type": "display_data"
    }
   ],
   "source": [
    "ytrainpd = pd.Series(y_train)\n",
    "ytrainpd = ytrainpd.value_counts()\n",
    "plt.figure(figsize = (10,6))\n",
    "plt.bar(range(43), [ytrainpd[i] for i in range(43)], width = 0.7)\n",
    "plt.suptitle(\"Image frequency, by tag\", fontsize = 16)\n",
    "plt.savefig('./BarGraph.png')"
   ]
  },
  {
   "cell_type": "markdown",
   "metadata": {},
   "source": [
    "----\n",
    "\n",
    "## Step 2: Design and Test a Model Architecture\n",
    "\n",
    "Design and implement a deep learning model that learns to recognize traffic signs. Train and test your model on the [German Traffic Sign Dataset](http://benchmark.ini.rub.de/?section=gtsrb&subsection=dataset).\n",
    "\n",
    "The LeNet-5 implementation shown in the [classroom](https://classroom.udacity.com/nanodegrees/nd013/parts/fbf77062-5703-404e-b60c-95b78b2f3f9e/modules/6df7ae49-c61c-4bb2-a23e-6527e69209ec/lessons/601ae704-1035-4287-8b11-e2c2716217ad/concepts/d4aca031-508f-4e0b-b493-e7b706120f81) at the end of the CNN lesson is a solid starting point. You'll have to change the number of classes and possibly the preprocessing, but aside from that it's plug and play! \n",
    "\n",
    "With the LeNet-5 solution from the lecture, you should expect a validation set accuracy of about 0.89. To meet specifications, the validation set accuracy will need to be at least 0.93. It is possible to get an even higher accuracy, but 0.93 is the minimum for a successful project submission. \n",
    "\n",
    "There are various aspects to consider when thinking about this problem:\n",
    "\n",
    "- Neural network architecture (is the network over or underfitting?)\n",
    "- Play around preprocessing techniques (normalization, rgb to grayscale, etc)\n",
    "- Number of examples per label (some have more than others).\n",
    "- Generate fake data.\n",
    "\n",
    "Here is an example of a [published baseline model on this problem](http://yann.lecun.com/exdb/publis/pdf/sermanet-ijcnn-11.pdf). It's not required to be familiar with the approach used in the paper but, it's good practice to try to read papers like these."
   ]
  },
  {
   "cell_type": "markdown",
   "metadata": {},
   "source": [
    "### Pre-process the Data Set (normalization, grayscale, etc.)"
   ]
  },
  {
   "cell_type": "markdown",
   "metadata": {},
   "source": [
    "Minimally, the image data should be normalized so that the data has mean zero and equal variance. For image data, `(pixel - 128)/ 128` is a quick way to approximately normalize the data and can be used in this project. \n",
    "\n",
    "Other pre-processing steps are optional. You can try different techniques to see if it improves performance. \n",
    "\n",
    "Use the code cell (or multiple code cells, if necessary) to implement the first step of your project."
   ]
  },
  {
   "cell_type": "code",
   "execution_count": 93,
   "metadata": {},
   "outputs": [],
   "source": [
    "### Preprocess the data here. It is required to normalize the data. Other preprocessing steps could include \n",
    "### converting to grayscale, etc.\n",
    "### Feel free to use as many code cells as needed.\n",
    "X_train_gray = []\n",
    "X_valid_gray = []\n",
    "X_test_gray = []\n",
    "\n",
    "X_train_y = []\n",
    "X_valid_y = []\n",
    "X_test_y = []\n",
    "\n",
    "X_train_z = []\n",
    "X_valid_z = []\n",
    "X_test_z = []\n",
    "\"\"\"\n",
    "The cv2 grayscale class still has some bugs to it\n",
    "So, I used some internet searching and did my own grayscaling\n",
    "using matrix multiplication to replicate the \"Luma\" of the image\n",
    "\n",
    "https://en.wikipedia.org/wiki/Luma_(video)\n",
    "\n",
    "Three parts to the preprocessing\n",
    "1.) Grayscaling using the aforementioned matrix multiplication\n",
    "2.) Normalization using scikit image equalize_hist \n",
    "http://scikit-image.org/docs/dev/api/skimage.exposure.html\n",
    "3.) Reshaping, because the LeNet setup wants a 4D hypercube\n",
    "\"\"\"\n",
    "g = np.array([0.2126, 0.7152, 0.0722])\n",
    "\n",
    "#Grayscaling\n",
    "for i in X_train:\n",
    "    X_train_gray.append(np.matmul(i, g))\n",
    "\n",
    "for j in X_valid:\n",
    "    X_valid_gray.append(np.matmul(j, g))\n",
    "\n",
    "for k in X_test:\n",
    "    X_test_gray.append(np.matmul(k, g))\n",
    "\n",
    "#Histogram equalization\n",
    "for i in X_train_gray:\n",
    "    X_train_y.append(equalize_hist(i))\n",
    "\n",
    "for j in X_valid_gray:\n",
    "    X_valid_y.append(equalize_hist(j))\n",
    "\n",
    "for k in X_test_gray:\n",
    "    X_test_y.append(equalize_hist(k))\n",
    "\n",
    "#Reshaping\n",
    "for i in X_train_y:\n",
    "    X_train_z.append(np.reshape(i, (32, 32, 1)))\n",
    "\n",
    "for j in X_valid_y:\n",
    "    X_valid_z.append(np.reshape(j, (32, 32, 1)))\n",
    "\n",
    "for k in X_test_y:\n",
    "    X_test_z.append(np.reshape(k, (32, 32, 1)))\n",
    "    \n",
    "X_train_z = np.array(X_train_z)\n",
    "X_valid_z = np.array(X_valid_z)\n",
    "X_test_z = np.array(X_test_z)"
   ]
  },
  {
   "cell_type": "markdown",
   "metadata": {},
   "source": [
    "### Visualization of Preprocessing"
   ]
  },
  {
   "cell_type": "code",
   "execution_count": 84,
   "metadata": {},
   "outputs": [
    {
     "data": {
      "image/png": "[encoded data removed]",
      "text/plain": [
       "<matplotlib.figure.Figure at 0x82ef4a8>"
      ]
     },
     "metadata": {},
     "output_type": "display_data"
    }
   ],
   "source": [
    "#Visualizing the preprocessing steps\n",
    "a = plt.figure(figsize = (10,5))\n",
    "plt.subplot(1,3,1)\n",
    "plt.imshow(X_train[choice], aspect = 'equal')\n",
    "plt.title(\"Original\", fontsize = 16)\n",
    "\n",
    "plt.subplot(1,3,2)\n",
    "plt.imshow(X_train_gray[choice], cmap = 'gray', aspect = 'equal')\n",
    "plt.title(\"Grayscaled\", fontsize = 16)\n",
    "\n",
    "plt.subplot(1,3,3)\n",
    "plt.imshow(X_train_y[choice], cmap = 'gray', aspect = 'equal')\n",
    "plt.title(\"Histogram Equalized\", fontsize = 16)\n",
    "\n",
    "plt.savefig('./Preprocess.png')"
   ]
  },
  {
   "cell_type": "markdown",
   "metadata": {
    "collapsed": true
   },
   "source": [
    "### Model Architecture\n",
    "I will be copying over the code used in my version of the LeNet lab\n",
    "\n",
    "https://github.com/esouliot/CarND-LeNet-Lab/blob/master/LeNet-Lab.ipynb\n",
    "\n",
    "The above notebook is similar to the solution provided by Udacity,\n",
    "with a few minor differences (e.g., different padding in the pooling layers)\n",
    "\n",
    "https://github.com/udacity/CarND-LeNet-Lab/blob/master/LeNet-Lab-Solution.ipynb\n",
    "\n"
   ]
  },
  {
   "cell_type": "markdown",
   "metadata": {},
   "source": [
    "## Setup TensorFlow\n",
    "The `EPOCH` and `BATCH_SIZE` values affect the training speed and model accuracy."
   ]
  },
  {
   "cell_type": "code",
   "execution_count": 85,
   "metadata": {},
   "outputs": [],
   "source": [
    "import tensorflow as tf\n",
    "from tensorflow.contrib.layers import flatten\n",
    "\n",
    "EPOCHS = 20\n",
    "BATCH_SIZE = 64"
   ]
  },
  {
   "cell_type": "markdown",
   "metadata": {},
   "source": [
    "## Implement LeNet-5\n",
    "Implement the [LeNet-5](http://yann.lecun.com/exdb/lenet/) neural network architecture.\n",
    "\n",
    "### Input\n",
    "The LeNet architecture accepts a 32x32xC image as input, where C is the number of color channels.\n",
    "\n",
    "### Architecture\n",
    "**Layer 1: Convolutional.** 32 x 32 x 1 -> 28 x 28 x 6.\n",
    "\n",
    "**Activation.** [TensorFlow RELU](https://www.tensorflow.org/api_docs/python/tf/nn/relu)\n",
    "\n",
    "**Pooling.** 28 x 28 x 6 -> 14 x 14 x 6.\n",
    "\n",
    "**Layer 2: Convolutional.** 14 x 14 x 6 -> 10 x 10 x 16.\n",
    "\n",
    "**Activation.** [TensorFlow RELU](https://www.tensorflow.org/api_docs/python/tf/nn/relu)\n",
    "\n",
    "**Pooling.** 10 x 10 x 16 -> 5 x 5 x 16.\n",
    "\n",
    "**Flatten.** Using `tf.contrib.layers.flatten`, 5 x 5 x 16 -> 120\n",
    "\n",
    "**Layer 3: Fully Connected.** 120 outputs.\n",
    "\n",
    "**Activation.** [TensorFlow RELU](https://www.tensorflow.org/api_docs/python/tf/nn/relu)\n",
    "\n",
    "**Layer 4: Fully Connected.** 84 outputs.\n",
    "\n",
    "**Activation.** [TensorFlow RELU](https://www.tensorflow.org/api_docs/python/tf/nn/relu)\n",
    "\n",
    "**Layer 5: Fully Connected (Logits).** 43 outputs.\n",
    "\n",
    "### Output\n",
    "Return the result of the 2nd fully connected layer."
   ]
  },
  {
   "cell_type": "code",
   "execution_count": 86,
   "metadata": {},
   "outputs": [],
   "source": [
    "def LeNet(x):    \n",
    "    # Arguments used for tf.truncated_normal, randomly defines variables for the weights and biases for each layer\n",
    "    mu = 0\n",
    "    sigma = 0.1\n",
    "    \n",
    "    # TODO: Layer 1: Convolutional. Input = 32x32x1. Output = 28x28x6.\n",
    "    cw1 = tf.Variable(tf.truncated_normal(shape = [5, 5, 1, 6], mean = mu, stddev = sigma))\n",
    "    cb1 = tf.Variable(tf.zeros(6))\n",
    "    conv1 = tf.nn.conv2d(x, cw1, strides = [1, 1, 1, 1], padding = 'VALID') + cb1\n",
    "\n",
    "    # TODO: Activation.\n",
    "    conv1 = tf.nn.relu(conv1)\n",
    "\n",
    "    # TODO: Pooling. Input = 28x28x6. Output = 14x14x6.\n",
    "    conv1 = tf.nn.max_pool(conv1, ksize = [1, 2, 2, 1], strides = [1, 2, 2, 1], padding = 'SAME')\n",
    "\n",
    "    # TODO: Layer 2: Convolutional. Output = 10x10x16.\n",
    "    cw2 = tf.Variable(tf.truncated_normal(shape = [5, 5, 6, 16], mean = mu, stddev = sigma))\n",
    "    cb2 = tf.Variable(tf.zeros(16))\n",
    "    conv2 = tf.nn.conv2d(conv1, cw2, strides = [1, 1, 1, 1], padding = 'VALID') + cb2\n",
    "    \n",
    "    # TODO: Activation.\n",
    "    conv2 = tf.nn.relu(conv2)\n",
    "\n",
    "    # TODO: Pooling. Input = 10x10x16. Output = 5x5x16.\n",
    "    conv2 = tf.nn.max_pool(conv2, ksize = [1, 2, 2, 1], strides = [1, 2, 2, 1], padding = 'SAME')\n",
    "\n",
    "    # TODO: Flatten. Input = 5x5x16. Output = 400.\n",
    "    conv2 = flatten(conv2)\n",
    "    \n",
    "    # TODO: Layer 3: Fully Connected. Input = 400. Output = 120.\n",
    "    cw3 = tf.Variable(tf.truncated_normal([400, 120], mean = mu, stddev = sigma))\n",
    "    cb3 = tf.Variable(tf.zeros(120))\n",
    "    conv3 = tf.add(tf.matmul(conv2, cw3), cb3)\n",
    "    \n",
    "    # TODO: Activation.\n",
    "    conv3 = tf.nn.relu(conv3)\n",
    "\n",
    "    # TODO: Layer 4: Fully Connected. Input = 120. Output = 84.\n",
    "    cw4 = tf.Variable(tf.truncated_normal([120, 84], mean = mu, stddev = sigma))\n",
    "    cb4 = tf.Variable(tf.zeros(84))\n",
    "    conv4 = tf.add(tf.matmul(conv3, cw4), cb4)\n",
    "    \n",
    "    # TODO: Activation.\n",
    "    conv4 = tf.nn.relu(conv4)\n",
    "\n",
    "    # TODO: Layer 5: Fully Connected. Input = 84. Output = 43.\n",
    "    cw5 = tf.Variable(tf.truncated_normal([84, 43], mean = mu, stddev = sigma))\n",
    "    cb5 = tf.Variable(tf.zeros(43))\n",
    "    logits = tf.add(tf.matmul(conv4, cw5), cb5)\n",
    "    \n",
    "    return logits"
   ]
  },
  {
   "cell_type": "markdown",
   "metadata": {},
   "source": [
    "## Features and Labels\n",
    "Train LeNet to classify [German Traffic Sign Dataset](http://benchmark.ini.rub.de/?section=gtsrb&subsection=dataset) data.\n",
    "\n",
    "`x` is a placeholder for a batch of input images.\n",
    "\n",
    "`y` is a placeholder for a batch of output labels."
   ]
  },
  {
   "cell_type": "code",
   "execution_count": 87,
   "metadata": {},
   "outputs": [],
   "source": [
    "x = tf.placeholder(tf.float32, (None, 32, 32, 1))\n",
    "y = tf.placeholder(tf.int32, (None))\n",
    "one_hot_y = tf.one_hot(y, 43)"
   ]
  },
  {
   "cell_type": "markdown",
   "metadata": {},
   "source": [
    "## Training Pipeline\n",
    "Create a training pipeline that uses the model to classify the German Traffic Sign data."
   ]
  },
  {
   "cell_type": "code",
   "execution_count": 88,
   "metadata": {},
   "outputs": [],
   "source": [
    "rate = 0.001\n",
    "logits = LeNet(x)\n",
    "cross_entropy = tf.nn.softmax_cross_entropy_with_logits(labels=one_hot_y, logits=logits)\n",
    "loss_operation = tf.reduce_mean(cross_entropy)\n",
    "optimizer = tf.train.AdamOptimizer(learning_rate = rate)\n",
    "training_operation = optimizer.minimize(loss_operation)"
   ]
  },
  {
   "cell_type": "markdown",
   "metadata": {},
   "source": [
    "## Model Evaluation\n",
    "Evaluate how well the loss and accuracy of the model for a given dataset."
   ]
  },
  {
   "cell_type": "code",
   "execution_count": 89,
   "metadata": {},
   "outputs": [],
   "source": [
    "correct_prediction = tf.equal(tf.argmax(logits, 1), tf.argmax(one_hot_y, 1))\n",
    "accuracy_operation = tf.reduce_mean(tf.cast(correct_prediction, tf.float32))\n",
    "saver = tf.train.Saver()\n",
    "\n",
    "def evaluate(X_data, y_data):\n",
    "    num_examples = len(X_data)\n",
    "    total_accuracy = 0\n",
    "    sess = tf.get_default_session()\n",
    "    for offset in range(0, num_examples, BATCH_SIZE):\n",
    "        batch_x, batch_y = X_data[offset:offset+BATCH_SIZE], y_data[offset:offset+BATCH_SIZE]\n",
    "        accuracy = sess.run(accuracy_operation, feed_dict={x: batch_x, y: batch_y})\n",
    "        total_accuracy += (accuracy * len(batch_x))\n",
    "    return total_accuracy / num_examples"
   ]
  },
  {
   "cell_type": "markdown",
   "metadata": {},
   "source": [
    "### Train, Validate and Test the Model"
   ]
  },
  {
   "cell_type": "markdown",
   "metadata": {},
   "source": [
    "A validation set can be used to assess how well the model is performing. A low accuracy on the training and validation\n",
    "sets imply underfitting. A high accuracy on the training set but low accuracy on the validation set implies overfitting."
   ]
  },
  {
   "cell_type": "code",
   "execution_count": 90,
   "metadata": {},
   "outputs": [
    {
     "name": "stdout",
     "output_type": "stream",
     "text": [
      "Training...\n",
      "\n",
      "EPOCH 1 ...\n",
      "Training Accuracy = 0.859\n",
      "Validation Accuracy = 0.821\n",
      "\n",
      "EPOCH 2 ...\n",
      "Training Accuracy = 0.945\n",
      "Validation Accuracy = 0.895\n",
      "\n",
      "EPOCH 3 ...\n",
      "Training Accuracy = 0.964\n",
      "Validation Accuracy = 0.914\n",
      "\n",
      "EPOCH 4 ...\n",
      "Training Accuracy = 0.970\n",
      "Validation Accuracy = 0.917\n",
      "\n",
      "EPOCH 5 ...\n",
      "Training Accuracy = 0.980\n",
      "Validation Accuracy = 0.930\n",
      "\n",
      "EPOCH 6 ...\n",
      "Training Accuracy = 0.982\n",
      "Validation Accuracy = 0.925\n",
      "\n",
      "EPOCH 7 ...\n",
      "Training Accuracy = 0.982\n",
      "Validation Accuracy = 0.928\n",
      "\n",
      "EPOCH 8 ...\n",
      "Training Accuracy = 0.991\n",
      "Validation Accuracy = 0.936\n",
      "\n",
      "EPOCH 9 ...\n",
      "Training Accuracy = 0.994\n",
      "Validation Accuracy = 0.921\n",
      "\n",
      "EPOCH 10 ...\n",
      "Training Accuracy = 0.991\n",
      "Validation Accuracy = 0.925\n",
      "\n",
      "EPOCH 11 ...\n",
      "Training Accuracy = 0.996\n",
      "Validation Accuracy = 0.944\n",
      "\n",
      "EPOCH 12 ...\n",
      "Training Accuracy = 0.991\n",
      "Validation Accuracy = 0.930\n",
      "\n",
      "EPOCH 13 ...\n",
      "Training Accuracy = 0.996\n",
      "Validation Accuracy = 0.929\n",
      "\n",
      "EPOCH 14 ...\n",
      "Training Accuracy = 0.995\n",
      "Validation Accuracy = 0.934\n",
      "\n",
      "EPOCH 15 ...\n",
      "Training Accuracy = 0.988\n",
      "Validation Accuracy = 0.935\n",
      "\n",
      "EPOCH 16 ...\n",
      "Training Accuracy = 0.997\n",
      "Validation Accuracy = 0.943\n",
      "\n",
      "EPOCH 17 ...\n",
      "Training Accuracy = 0.987\n",
      "Validation Accuracy = 0.932\n",
      "\n",
      "EPOCH 18 ...\n",
      "Training Accuracy = 0.998\n",
      "Validation Accuracy = 0.938\n",
      "\n",
      "EPOCH 19 ...\n",
      "Training Accuracy = 0.996\n",
      "Validation Accuracy = 0.940\n",
      "\n",
      "EPOCH 20 ...\n",
      "Training Accuracy = 0.995\n",
      "Validation Accuracy = 0.932\n",
      "\n",
      "Model saved\n"
     ]
    }
   ],
   "source": [
    "### Train your model here.\n",
    "### Calculate and report the accuracy on the training and validation set.\n",
    "### Once a final model architecture is selected, \n",
    "### the accuracy on the test set should be calculated and reported as well.\n",
    "### Feel free to use as many code cells as needed.\n",
    "\n",
    "from sklearn.utils import shuffle\n",
    "with tf.Session() as sess:\n",
    "    sess.run(tf.global_variables_initializer())\n",
    "    num_examples = len(X_train_z)\n",
    "    \n",
    "    print(\"Training...\")\n",
    "    print()\n",
    "    for i in range(EPOCHS):\n",
    "        X_train_z, y_train = shuffle(X_train_z, y_train)\n",
    "        for offset in range(0, num_examples, BATCH_SIZE):\n",
    "            end = offset + BATCH_SIZE\n",
    "            batch_x, batch_y = X_train_z[offset:end], y_train[offset:end]\n",
    "            sess.run(training_operation, feed_dict={x: batch_x, y: batch_y})\n",
    "        training_accuracy = evaluate(X_train_z, y_train)    \n",
    "        validation_accuracy = evaluate(X_valid_z, y_valid)\n",
    "        print(\"EPOCH {} ...\".format(i+1))\n",
    "        print(\"Training Accuracy = {:.3f}\".format(training_accuracy))\n",
    "        print(\"Validation Accuracy = {:.3f}\".format(validation_accuracy))\n",
    "        print()\n",
    "        \n",
    "    saver.save(sess, './lenet')\n",
    "    print(\"Model saved\")"
   ]
  },
  {
   "cell_type": "code",
   "execution_count": 94,
   "metadata": {},
   "outputs": [
    {
     "name": "stdout",
     "output_type": "stream",
     "text": [
      "Test Accuracy = 0.911\n"
     ]
    }
   ],
   "source": [
    "with tf.Session() as sess:\n",
    "    saver.restore(sess, tf.train.latest_checkpoint('.'))\n",
    "\n",
    "    test_accuracy = evaluate(X_test_z, y_test)\n",
    "    print(\"Test Accuracy = {:.3f}\".format(test_accuracy))"
   ]
  },
  {
   "cell_type": "markdown",
   "metadata": {},
   "source": [
    "---\n",
    "\n",
    "## Step 3: Test a Model on New Images\n",
    "\n",
    "To give yourself more insight into how your model is working, download at least five pictures of German traffic signs from the web and use your model to predict the traffic sign type.\n",
    "\n",
    "You may find `signnames.csv` useful as it contains mappings from the class id (integer) to the actual sign name."
   ]
  },
  {
   "cell_type": "markdown",
   "metadata": {},
   "source": [
    "### Load and Output the Images"
   ]
  },
  {
   "cell_type": "code",
   "execution_count": 95,
   "metadata": {},
   "outputs": [],
   "source": [
    "### Load the images and plot them here.\n",
    "### Feel free to use as many code cells as needed.\n",
    "\n",
    "X_new = []\n",
    "y_new = np.array([7, 35, 4, 12, 13, 17, 29])\n",
    "\n",
    "for i in range(1, 8):\n",
    "    X_new.append(plt.imread('./new-signs/Sign'+str(i)+'.png'))\n",
    "\n",
    "X_new_y = []\n",
    "X_new_z = []\n",
    "\n",
    "g = np.array([0.2126, 0.7152, 0.0722])\n",
    "\n",
    "for l in X_new:\n",
    "    X_new_y.append(equalize_hist(np.matmul(l, g)))\n",
    "\n",
    "for m in X_new_y:\n",
    "    X_new_z.append(np.reshape(m, (32, 32, 1)))\n",
    "    \n",
    "X_new_z = np.array(X_new_z)"
   ]
  },
  {
   "cell_type": "markdown",
   "metadata": {},
   "source": [
    "### Images before and after preprocessing"
   ]
  },
  {
   "cell_type": "code",
   "execution_count": 97,
   "metadata": {},
   "outputs": [
    {
     "data": {
      "image/png": "[encoded data removed]",
      "text/plain": [
       "<matplotlib.figure.Figure at 0x82ef240>"
      ]
     },
     "metadata": {},
     "output_type": "display_data"
    }
   ],
   "source": [
    "label = 'Tag ' + str(y_new[0]) + ' - ' + str(names['SignName'][y_new[0]])\n",
    "before = X_new[0]\n",
    "after = X_new_y[0]\n",
    "\n",
    "plt.figure(figsize = (10, 4))\n",
    "plt.subplot(121)\n",
    "plt.imshow(before)\n",
    "plt.title('Before', fontsize = 16)\n",
    "plt.suptitle(label, fontsize = 16)\n",
    "\n",
    "plt.subplot(122)\n",
    "plt.imshow(after, cmap = 'gray')\n",
    "plt.title('After', fontsize = 16)\n",
    "plt.savefig('./Figures/new1.png')"
   ]
  },
  {
   "cell_type": "code",
   "execution_count": 98,
   "metadata": {},
   "outputs": [
    {
     "data": {
      "image/png": "[encoded data removed]",
      "text/plain": [
       "<matplotlib.figure.Figure at 0x8b3bb00>"
      ]
     },
     "metadata": {},
     "output_type": "display_data"
    }
   ],
   "source": [
    "label = 'Tag ' + str(y_new[1]) + ' - ' + str(names['SignName'][y_new[1]])\n",
    "before = X_new[1]\n",
    "after = X_new_y[1]\n",
    "\n",
    "plt.figure(figsize = (10, 4))\n",
    "plt.subplot(121)\n",
    "plt.imshow(before)\n",
    "plt.title('Before', fontsize = 16)\n",
    "plt.suptitle(label, fontsize = 16)\n",
    "\n",
    "plt.subplot(122)\n",
    "plt.imshow(after, cmap = 'gray')\n",
    "plt.title('After', fontsize = 16)\n",
    "plt.savefig('./Figures/new2.png')"
   ]
  },
  {
   "cell_type": "code",
   "execution_count": 99,
   "metadata": {},
   "outputs": [
    {
     "data": {
      "image/png": "[encoded data removed]",
      "text/plain": [
       "<matplotlib.figure.Figure at 0x8a7c668>"
      ]
     },
     "metadata": {},
     "output_type": "display_data"
    }
   ],
   "source": [
    "label = 'Tag ' + str(y_new[2]) + ' - ' + str(names['SignName'][y_new[2]])\n",
    "before = X_new[2]\n",
    "after = X_new_y[2]\n",
    "\n",
    "plt.figure(figsize = (10, 4))\n",
    "plt.subplot(121)\n",
    "plt.imshow(before)\n",
    "plt.title('Before', fontsize = 16)\n",
    "plt.suptitle(label, fontsize = 16)\n",
    "\n",
    "plt.subplot(122)\n",
    "plt.imshow(after, cmap = 'gray')\n",
    "plt.title('After', fontsize = 16)\n",
    "plt.savefig('./Figures/new3.png')"
   ]
  },
  {
   "cell_type": "code",
   "execution_count": 100,
   "metadata": {},
   "outputs": [
    {
     "data": {
      "image/png": "[encoded data removed]",
      "text/plain": [
       "<matplotlib.figure.Figure at 0xe897c50>"
      ]
     },
     "metadata": {},
     "output_type": "display_data"
    }
   ],
   "source": [
    "label = 'Tag ' + str(y_new[3]) + ' - ' + str(names['SignName'][y_new[3]])\n",
    "before = X_new[3]\n",
    "after = X_new_y[3]\n",
    "\n",
    "plt.figure(figsize = (10, 4))\n",
    "plt.subplot(121)\n",
    "plt.imshow(before)\n",
    "plt.title('Before', fontsize = 16)\n",
    "plt.suptitle(label, fontsize = 16)\n",
    "\n",
    "plt.subplot(122)\n",
    "plt.imshow(after, cmap = 'gray')\n",
    "plt.title('After', fontsize = 16)\n",
    "plt.savefig('./Figures/new4.png')"
   ]
  },
  {
   "cell_type": "code",
   "execution_count": 101,
   "metadata": {},
   "outputs": [
    {
     "data": {
      "image/png": "[encoded data removed]",
      "text/plain": [
       "<matplotlib.figure.Figure at 0xe9c7780>"
      ]
     },
     "metadata": {},
     "output_type": "display_data"
    }
   ],
   "source": [
    "label = 'Tag ' + str(y_new[4]) + ' - ' + str(names['SignName'][y_new[4]])\n",
    "before = X_new[4]\n",
    "after = X_new_y[4]\n",
    "\n",
    "plt.figure(figsize = (10, 4))\n",
    "plt.subplot(121)\n",
    "plt.imshow(before)\n",
    "plt.title('Before', fontsize = 16)\n",
    "plt.suptitle(label, fontsize = 16)\n",
    "\n",
    "plt.subplot(122)\n",
    "plt.imshow(after, cmap = 'gray')\n",
    "plt.title('After', fontsize = 16)\n",
    "plt.savefig('./Figures/new5.png')"
   ]
  },
  {
   "cell_type": "code",
   "execution_count": 102,
   "metadata": {},
   "outputs": [
    {
     "data": {
      "image/png": "[encoded data removed]",
      "text/plain": [
       "<matplotlib.figure.Figure at 0x10a94588>"
      ]
     },
     "metadata": {},
     "output_type": "display_data"
    }
   ],
   "source": [
    "label = 'Tag ' + str(y_new[5]) + ' - ' + str(names['SignName'][y_new[5]])\n",
    "before = X_new[5]\n",
    "after = X_new_y[5]\n",
    "\n",
    "plt.figure(figsize = (10, 4))\n",
    "plt.subplot(121)\n",
    "plt.imshow(before)\n",
    "plt.title('Before', fontsize = 16)\n",
    "plt.suptitle(label, fontsize = 16)\n",
    "\n",
    "plt.subplot(122)\n",
    "plt.imshow(after, cmap = 'gray')\n",
    "plt.title('After', fontsize = 16)\n",
    "plt.savefig('./Figures/new6.png')"
   ]
  },
  {
   "cell_type": "code",
   "execution_count": 103,
   "metadata": {},
   "outputs": [
    {
     "data": {
      "image/png": "[encoded data removed]",
      "text/plain": [
       "<matplotlib.figure.Figure at 0xfde4908>"
      ]
     },
     "metadata": {},
     "output_type": "display_data"
    }
   ],
   "source": [
    "label = 'Tag ' + str(y_new[6]) + ' - ' + str(names['SignName'][y_new[6]])\n",
    "before = X_new[6]\n",
    "after = X_new_y[6]\n",
    "\n",
    "plt.figure(figsize = (10, 4))\n",
    "plt.subplot(121)\n",
    "plt.imshow(before)\n",
    "plt.title('Before', fontsize = 16)\n",
    "plt.suptitle(label, fontsize = 16)\n",
    "\n",
    "plt.subplot(122)\n",
    "plt.imshow(after, cmap = 'gray')\n",
    "plt.title('After', fontsize = 16)\n",
    "plt.savefig('./Figures/new7.png')"
   ]
  },
  {
   "cell_type": "markdown",
   "metadata": {},
   "source": [
    "### Predict the Sign Type for Each Image"
   ]
  },
  {
   "cell_type": "code",
   "execution_count": 104,
   "metadata": {},
   "outputs": [],
   "source": [
    "### Run the predictions here and use the model to output the prediction for each image.\n",
    "### Make sure to pre-process the images with the same pre-processing pipeline used earlier.\n",
    "### Feel free to use as many code cells as needed.\n",
    "with tf.Session() as sess2:\n",
    "    #Retrieves saved session from file\n",
    "    new_saver = tf.train.import_meta_graph('lenet.meta')\n",
    "    new_saver.restore(sess2, tf.train.latest_checkpoint('.'))\n",
    "    \n",
    "    #Uses logits and argmax function to find predicted labels\n",
    "    predicted_logits = sess2.run(logits, feed_dict = {x: X_new_z})\n",
    "    predicted_labels = np.argmax(predicted_logits, axis = 1)\n",
    "    \n",
    "    #Calculates model accuracy and softmax probabilities\n",
    "    new_acc = evaluate(X_new_z, y_new)\n",
    "    softmax = tf.nn.softmax(logits)\n",
    "    sm = sess2.run(softmax, feed_dict = {x: X_new_z})"
   ]
  },
  {
   "cell_type": "code",
   "execution_count": 106,
   "metadata": {},
   "outputs": [
    {
     "name": "stdout",
     "output_type": "stream",
     "text": [
      " 1.) Predicted label =  7 - Speed limit (100km/h)\n",
      "     Actual label =  7 - Speed limit (100km/h) \n",
      "\n",
      " 2.) Predicted label = 28 - Children crossing\n",
      "     Actual label = 35 - Ahead only \n",
      "\n",
      " 3.) Predicted label =  1 - Speed limit (30km/h)\n",
      "     Actual label =  4 - Speed limit (70km/h) \n",
      "\n",
      " 4.) Predicted label = 12 - Priority road\n",
      "     Actual label = 12 - Priority road \n",
      "\n",
      " 5.) Predicted label = 13 - Yield\n",
      "     Actual label = 13 - Yield \n",
      "\n",
      " 6.) Predicted label = 17 - No entry\n",
      "     Actual label = 17 - No entry \n",
      "\n",
      " 7.) Predicted label = 30 - Beware of ice/snow\n",
      "     Actual label = 29 - Bicycles crossing \n",
      "\n",
      "Prediction accuracy for new images = 57.1%\n"
     ]
    }
   ],
   "source": [
    "for i in range(len(predicted_labels)):\n",
    "    title_pred = predicted_labels[i]\n",
    "    title_actual = y_new[i]\n",
    "    print(\"{:2d}.) Predicted label = {:2d} - {:s}\".format(i+1, title_pred, names['SignName'][title_pred]))\n",
    "    print(\"     Actual label = {:2d} - {:s} \\n\".format(title_actual, names['SignName'][title_actual]))\n",
    "    \n",
    "print(\"Prediction accuracy for new images = {:2.1f}%\".format(new_acc*100))"
   ]
  },
  {
   "cell_type": "markdown",
   "metadata": {},
   "source": [
    "### Output Top 5 Softmax Probabilities For Each Image Found on the Web"
   ]
  },
  {
   "cell_type": "markdown",
   "metadata": {},
   "source": [
    "For each of the new images, print out the model's softmax probabilities to show the **certainty** of the model's predictions (limit the output to the top 5 probabilities for each image). [`tf.nn.top_k`](https://www.tensorflow.org/versions/r0.12/api_docs/python/nn.html#top_k) could prove helpful here. "
   ]
  },
  {
   "cell_type": "code",
   "execution_count": 107,
   "metadata": {},
   "outputs": [],
   "source": [
    "### Print out the top five softmax probabilities for the predictions on the German traffic sign images found on the web. \n",
    "### Feel free to use as many code cells as needed.\n",
    "with tf.Session() as sess3:\n",
    "    values, indices = tf.nn.top_k(sm, 5)\n",
    "    values = sess3.run(values)\n",
    "    indices = sess3.run(indices)"
   ]
  },
  {
   "cell_type": "code",
   "execution_count": 108,
   "metadata": {},
   "outputs": [
    {
     "name": "stdout",
     "output_type": "stream",
     "text": [
      "1.) Actual label: Speed limit (100km/h)\n",
      "    Top 5 Softmax Probabilities\n",
      "    1.) Speed limit (100km/h) - 98.88%\n",
      "    2.) Speed limit (80km/h) - 1.08%\n",
      "    3.) Vehicles over 3.5 metric tons prohibited - 0.04%\n",
      "    4.) No passing for vehicles over 3.5 metric tons - 0.00%\n",
      "    5.) Roundabout mandatory - 0.00%\n",
      "\n",
      "2.) Actual label: Ahead only\n",
      "    Top 5 Softmax Probabilities\n",
      "    1.) Children crossing - 99.66%\n",
      "    2.) Bicycles crossing - 0.26%\n",
      "    3.) Keep right - 0.03%\n",
      "    4.) Ahead only - 0.02%\n",
      "    5.) Speed limit (60km/h) - 0.02%\n",
      "\n",
      "3.) Actual label: Speed limit (70km/h)\n",
      "    Top 5 Softmax Probabilities\n",
      "    1.) Speed limit (30km/h) - 66.81%\n",
      "    2.) Speed limit (20km/h) - 32.66%\n",
      "    3.) Speed limit (60km/h) - 0.27%\n",
      "    4.) Turn right ahead - 0.24%\n",
      "    5.) Speed limit (80km/h) - 0.01%\n",
      "\n",
      "4.) Actual label: Priority road\n",
      "    Top 5 Softmax Probabilities\n",
      "    1.) Priority road - 100.00%\n",
      "    2.) Speed limit (100km/h) - 0.00%\n",
      "    3.) No passing - 0.00%\n",
      "    4.) No entry - 0.00%\n",
      "    5.) Speed limit (120km/h) - 0.00%\n",
      "\n",
      "5.) Actual label: Yield\n",
      "    Top 5 Softmax Probabilities\n",
      "    1.) Yield - 100.00%\n",
      "    2.) Speed limit (80km/h) - 0.00%\n",
      "    3.) Speed limit (50km/h) - 0.00%\n",
      "    4.) Speed limit (60km/h) - 0.00%\n",
      "    5.) Ahead only - 0.00%\n",
      "\n",
      "6.) Actual label: No entry\n",
      "    Top 5 Softmax Probabilities\n",
      "    1.) No entry - 100.00%\n",
      "    2.) No passing - 0.00%\n",
      "    3.) Beware of ice/snow - 0.00%\n",
      "    4.) Keep right - 0.00%\n",
      "    5.) End of no passing - 0.00%\n",
      "\n",
      "7.) Actual label: Bicycles crossing\n",
      "    Top 5 Softmax Probabilities\n",
      "    1.) Beware of ice/snow - 57.11%\n",
      "    2.) Slippery road - 19.68%\n",
      "    3.) Wild animals crossing - 18.83%\n",
      "    4.) Bicycles crossing - 4.13%\n",
      "    5.) Road work - 0.11%\n",
      "\n"
     ]
    }
   ],
   "source": [
    "for i in range(len(values)):\n",
    "    val = y_new[i]\n",
    "    print(\"{:1d}.) Actual label: {:s}\".format(i+1, names['SignName'][val]))\n",
    "    print(\"    Top 5 Softmax Probabilities\")\n",
    "    for j in range(len(values[i])):\n",
    "        name = names['SignName'][indices[i][j]]\n",
    "        smax = values[i][j]\n",
    "        print(\"    {:1d}.) {:s} - {:3.2f}%\".format(j+1, name, smax*100))\n",
    "    print()"
   ]
  },
  {
   "cell_type": "markdown",
   "metadata": {},
   "source": [
    "### Project Writeup\n",
    "\n",
    "Once you have completed the code implementation, document your results in a project writeup using this [template](https://github.com/udacity/CarND-Traffic-Sign-Classifier-Project/blob/master/writeup_template.md) as a guide. The writeup can be in a markdown or pdf file. "
   ]
  },
  {
   "cell_type": "markdown",
   "metadata": {},
   "source": [
    "> **Note**: Once you have completed all of the code implementations and successfully answered each question above, you may finalize your work by exporting the iPython Notebook as an HTML document. You can do this by using the menu above and navigating to  \\n\",\n",
    "    \"**File -> Download as -> HTML (.html)**. Include the finished document along with this notebook as your submission."
   ]
  },
  {
   "cell_type": "markdown",
   "metadata": {},
   "source": [
    "---\n",
    "\n",
    "## Step 4 (Optional): Visualize the Neural Network's State with Test Images\n",
    "\n",
    " This Section is not required to complete but acts as an additional excersise for understaning the output of a neural network's weights. While neural networks can be a great learning device they are often referred to as a black box. We can understand what the weights of a neural network look like better by plotting their feature maps. After successfully training your neural network you can see what it's feature maps look like by plotting the output of the network's weight layers in response to a test stimuli image. From these plotted feature maps, it's possible to see what characteristics of an image the network finds interesting. For a sign, maybe the inner network feature maps react with high activation to the sign's boundary outline or to the contrast in the sign's painted symbol.\n",
    "\n",
    " Provided for you below is the function code that allows you to get the visualization output of any tensorflow weight layer you want. The inputs to the function should be a stimuli image, one used during training or a new one you provided, and then the tensorflow variable name that represents the layer's state during the training process, for instance if you wanted to see what the [LeNet lab's](https://classroom.udacity.com/nanodegrees/nd013/parts/fbf77062-5703-404e-b60c-95b78b2f3f9e/modules/6df7ae49-c61c-4bb2-a23e-6527e69209ec/lessons/601ae704-1035-4287-8b11-e2c2716217ad/concepts/d4aca031-508f-4e0b-b493-e7b706120f81) feature maps looked like for it's second convolutional layer you could enter conv2 as the tf_activation variable.\n",
    "\n",
    "For an example of what feature map outputs look like, check out NVIDIA's results in their paper [End-to-End Deep Learning for Self-Driving Cars](https://devblogs.nvidia.com/parallelforall/deep-learning-self-driving-cars/) in the section Visualization of internal CNN State. NVIDIA was able to show that their network's inner weights had high activations to road boundary lines by comparing feature maps from an image with a clear path to one without. Try experimenting with a similar test to show that your trained network's weights are looking for interesting features, whether it's looking at differences in feature maps from images with or without a sign, or even what feature maps look like in a trained network vs a completely untrained one on the same sign image.\n",
    "\n",
    "<figure>\n",
    " <img src=\"visualize_cnn.png\" width=\"380\" alt=\"Combined Image\" />\n",
    " <figcaption>\n",
    " <p></p> \n",
    " <p style=\"text-align: center;\"> Your output should look something like this (above)</p> \n",
    " </figcaption>\n",
    "</figure>\n",
    " <p></p> \n"
   ]
  },
  {
   "cell_type": "code",
   "execution_count": 62,
   "metadata": {},
   "outputs": [],
   "source": [
    "### Visualize your network's feature maps here.\n",
    "### Feel free to use as many code cells as needed.\n",
    "\n",
    "# image_input: the test image being fed into the network to produce the feature maps\n",
    "# tf_activation: should be a tf variable name used during your training procedure that represents the calculated state of a specific weight layer\n",
    "# activation_min/max: can be used to view the activation contrast in more detail, by default matplot sets min and max to the actual min and max values of the output\n",
    "# plt_num: used to plot out multiple different weight feature map sets on the same block, just extend the plt number for each new feature map entry\n",
    "\n",
    "def outputFeatureMap(image_input, tf_activation, activation_min=-1, activation_max=-1 ,plt_num=1):\n",
    "    # Here make sure to preprocess your image_input in a way your network expects\n",
    "    # with size, normalization, ect if needed\n",
    "    image_input = image_input\n",
    "    # Note: x should be the same name as your network's tensorflow data placeholder variable\n",
    "    # If you get an error tf_activation is not defined it may be having trouble accessing the variable from inside a function\n",
    "    activation = tf_activation.eval(session=sess,feed_dict={x : image_input})\n",
    "    featuremaps = activation.shape[3]\n",
    "    plt.figure(plt_num, figsize=(15,15))\n",
    "    for featuremap in range(featuremaps):\n",
    "        plt.subplot(6,8, featuremap+1) # sets the number of feature maps to show on each row and column\n",
    "        plt.title('FeatureMap ' + str(featuremap)) # displays the feature map number\n",
    "        if activation_min != -1 & activation_max != -1:\n",
    "            plt.imshow(activation[0,:,:, featuremap], interpolation=\"nearest\", vmin =activation_min, vmax=activation_max, cmap=\"gray\")\n",
    "        elif activation_max != -1:\n",
    "            plt.imshow(activation[0,:,:, featuremap], interpolation=\"nearest\", vmax=activation_max, cmap=\"gray\")\n",
    "        elif activation_min !=-1:\n",
    "            plt.imshow(activation[0,:,:, featuremap], interpolation=\"nearest\", vmin=activation_min, cmap=\"gray\")\n",
    "        else:\n",
    "            plt.imshow(activation[0,:,:, featuremap], interpolation=\"nearest\", cmap=\"gray\")"
   ]
  },
  {
   "cell_type": "code",
   "execution_count": 63,
   "metadata": {},
   "outputs": [
    {
     "ename": "NameError",
     "evalue": "name 'conv1' is not defined",
     "output_type": "error",
     "traceback": [
      "\u001b[1;31m---------------------------------------------------------------------------\u001b[0m",
      "\u001b[1;31mNameError\u001b[0m                                 Traceback (most recent call last)",
      "\u001b[1;32m<ipython-input-63-136ce2617f3c>\u001b[0m in \u001b[0;36m<module>\u001b[1;34m()\u001b[0m\n\u001b[1;32m----> 1\u001b[1;33m \u001b[0moutputFeatureMap\u001b[0m\u001b[1;33m(\u001b[0m\u001b[0mX_new_z\u001b[0m\u001b[1;33m[\u001b[0m\u001b[1;36m0\u001b[0m\u001b[1;33m]\u001b[0m\u001b[1;33m,\u001b[0m \u001b[0mconv1\u001b[0m\u001b[1;33m)\u001b[0m\u001b[1;33m\u001b[0m\u001b[0m\n\u001b[0m",
      "\u001b[1;31mNameError\u001b[0m: name 'conv1' is not defined"
     ]
    }
   ],
   "source": [
    "outputFeatureMap(X_new_z[0], conv1)"
   ]
  },
  {
   "cell_type": "code",
   "execution_count": null,
   "metadata": {},
   "outputs": [],
   "source": []
  }
 ],
 "metadata": {
  "anaconda-cloud": {},
  "kernelspec": {
   "display_name": "Python 3",
   "language": "python",
   "name": "python3"
  },
  "language_info": {
   "codemirror_mode": {
    "name": "ipython",
    "version": 3
   },
   "file_extension": ".py",
   "mimetype": "text/x-python",
   "name": "python",
   "nbconvert_exporter": "python",
   "pygments_lexer": "ipython3",
   "version": "3.5.2"
  },
  "widgets": {
   "state": {},
   "version": "1.1.2"
  }
 },
 "nbformat": 4,
 "nbformat_minor": 1
}
